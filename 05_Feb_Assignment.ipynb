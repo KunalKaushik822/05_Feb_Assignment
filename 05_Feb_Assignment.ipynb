{
 "cells": [
  {
   "cell_type": "code",
   "execution_count": 1,
   "id": "5487c108-1cd5-4587-90e4-ab6a4b063d14",
   "metadata": {},
   "outputs": [
    {
     "data": {
      "text/plain": [
       "'Q1. Explain Class and Object with respect to Object-Oriented Programming. Give a suitable example.'"
      ]
     },
     "execution_count": 1,
     "metadata": {},
     "output_type": "execute_result"
    }
   ],
   "source": [
    "\"\"\"Q1. Explain Class and Object with respect to Object-Oriented Programming. Give a suitable example.\"\"\""
   ]
  },
  {
   "cell_type": "code",
   "execution_count": 6,
   "id": "9bb0a829-2cff-4b23-bae0-193c22dbc447",
   "metadata": {},
   "outputs": [],
   "source": [
    "# In object- oriented programming (OOP), a class is a blueprint or a template for creating objects. An object, on the other hand , is a an instance of a class. Classes define the properties (attributes) and behavior(methods) that object of that type will have.\n",
    "\n",
    "class bike:\n",
    "    def __init__(self, make, model, year):\n",
    "        self.make = make\n",
    "        self.model = model\n",
    "        self.year = year\n",
    "        self.speed = 0 #additional attribute\n",
    "        \n",
    "    def display_info(self):\n",
    "        print(f\"{self.year} {self.make} {self.model}\")\n",
    "    \n",
    "    def accelerate(self):\n",
    "        self.speed += 5\n",
    "        print(f\"current speed: {self.speed} mph\")\n",
    "        \n",
    "    def brake(self):\n",
    "        self.speed -= 5\n",
    "        print(f\"The car is braking. Current speed: {self.speed} mph\")\n",
    "        \n",
    "        \n",
    "#Objects(instances) of the bike class\n",
    "bike1 = bike(\"toyota\" , \"camry\", 2024)\n",
    "bike2 = bike(\"BMW\" , \"Mustang\", 2024)\n",
    "\n",
    "        "
   ]
  },
  {
   "cell_type": "code",
   "execution_count": 7,
   "id": "2226a94b-a4f8-4989-b14a-489f7bf86ddc",
   "metadata": {},
   "outputs": [
    {
     "name": "stdout",
     "output_type": "stream",
     "text": [
      "2024 toyota camry\n"
     ]
    }
   ],
   "source": [
    "bike1.display_info()"
   ]
  },
  {
   "cell_type": "code",
   "execution_count": 8,
   "id": "04049128-b69c-40b7-9cec-db9acce96e77",
   "metadata": {},
   "outputs": [
    {
     "name": "stdout",
     "output_type": "stream",
     "text": [
      "2024 BMW Mustang\n"
     ]
    }
   ],
   "source": [
    "bike2.display_info()"
   ]
  },
  {
   "cell_type": "code",
   "execution_count": 10,
   "id": "6dc55ec7-81b8-4284-9496-bb94240ac07c",
   "metadata": {},
   "outputs": [
    {
     "name": "stdout",
     "output_type": "stream",
     "text": [
      "The car is braking. Current speed: -5 mph\n"
     ]
    }
   ],
   "source": [
    "bike1.brake()"
   ]
  },
  {
   "cell_type": "code",
   "execution_count": 11,
   "id": "30601aea-81d5-479b-8688-3988e2f22ed5",
   "metadata": {},
   "outputs": [
    {
     "name": "stdout",
     "output_type": "stream",
     "text": [
      "The car is braking. Current speed: -5 mph\n"
     ]
    }
   ],
   "source": [
    "bike2.brake()"
   ]
  },
  {
   "cell_type": "code",
   "execution_count": 12,
   "id": "1d82828a-9a4c-4919-b695-807b882ad15a",
   "metadata": {},
   "outputs": [
    {
     "data": {
      "text/plain": [
       "'The four pillars of object-oriented programming (OOP) are:\\n\\nEncapsulation:\\n\\nEncapsulation refers to the bundling of data (attributes) and the methods that operate on that data within a single unit, i.e., a class.\\nIt helps in hiding the internal details of an object and exposing only what is necessary.\\nInheritance:\\n\\nInheritance allows a new class (subclass or derived class) to inherit attributes and behaviors from an existing class (base class or superclass).\\nIt promotes code reuse and the creation of a hierarchy of classes, where a subclass can extend or override the functionality of its superclass.\\nAbstraction:\\n\\nAbstraction involves simplifying complex systems by modeling classes based on the essential properties and behaviors relevant to the program.\\nIt allows you to focus on the relevant aspects of an object while ignoring unnecessary details.\\nPolymorphism:\\n\\nPolymorphism means \"many forms\" and allows objects to be treated as instances of their parent class.\\nIt enables objects of different classes to be used interchangeably if they share a common interface (e.g., through inheritance or implementing the same set of methods).\\nPolymorphism includes method overloading (having multiple methods with the same name but different parameters) and method overriding (providing a specific implementation of a method in a subclass).\\nThese four principles help in designing and organizing code in a way that promotes modularity, reusability, and flexibility in object-oriented programming.\\n'"
      ]
     },
     "execution_count": 12,
     "metadata": {},
     "output_type": "execute_result"
    }
   ],
   "source": [
    "\"\"\"Q2. Name  the four pillers of OOPs.\"\"\"\n",
    "\n",
    "\n",
    "\"\"\"The four pillars of object-oriented programming (OOP) are:\n",
    "\n",
    "Encapsulation:\n",
    "\n",
    "Encapsulation refers to the bundling of data (attributes) and the methods that operate on that data within a single unit, i.e., a class.\n",
    "It helps in hiding the internal details of an object and exposing only what is necessary.\n",
    "Inheritance:\n",
    "\n",
    "Inheritance allows a new class (subclass or derived class) to inherit attributes and behaviors from an existing class (base class or superclass).\n",
    "It promotes code reuse and the creation of a hierarchy of classes, where a subclass can extend or override the functionality of its superclass.\n",
    "Abstraction:\n",
    "\n",
    "Abstraction involves simplifying complex systems by modeling classes based on the essential properties and behaviors relevant to the program.\n",
    "It allows you to focus on the relevant aspects of an object while ignoring unnecessary details.\n",
    "Polymorphism:\n",
    "\n",
    "Polymorphism means \"many forms\" and allows objects to be treated as instances of their parent class.\n",
    "It enables objects of different classes to be used interchangeably if they share a common interface (e.g., through inheritance or implementing the same set of methods).\n",
    "Polymorphism includes method overloading (having multiple methods with the same name but different parameters) and method overriding (providing a specific implementation of a method in a subclass).\n",
    "These four principles help in designing and organizing code in a way that promotes modularity, reusability, and flexibility in object-oriented programming.\n",
    "\"\"\""
   ]
  },
  {
   "cell_type": "code",
   "execution_count": 14,
   "id": "96005391-657b-4fdd-a877-141b708e9af0",
   "metadata": {},
   "outputs": [
    {
     "name": "stdout",
     "output_type": "stream",
     "text": [
      "Name: Alice, Age: 25\n",
      "Name: Bob, Age: 30\n"
     ]
    }
   ],
   "source": [
    "\"\"\"Q3. Explain why the __init__() function is used. Give a suitable example.\"\"\"\n",
    "\n",
    "\n",
    "# The __init__() function in Python is a special method, also known as a constructor. It is automatically called when an object is created from a class. The primary purpose of the __init__() method is to initialize the attributes of the object and perform any setup that is required when an object is instantiated.\n",
    "\n",
    "\n",
    "class Person:\n",
    "    # The __init__ method is called when a new object is created\n",
    "    def __init__(self, name, age):\n",
    "        # Initialize attributes\n",
    "        self.name = name\n",
    "        self.age = age\n",
    "\n",
    "    # A method to display information about the person\n",
    "    def display_info(self):\n",
    "        print(f\"Name: {self.name}, Age: {self.age}\")\n",
    "\n",
    "# Create instances (objects) of the Person class\n",
    "person1 = Person(\"Alice\", 25)\n",
    "person2 = Person(\"Bob\", 30)\n",
    "\n",
    "# Call the display_info method to show information about each person\n",
    "person1.display_info()\n",
    "person2.display_info()\n"
   ]
  },
  {
   "cell_type": "code",
   "execution_count": 16,
   "id": "63ef7b2f-362a-4c76-a92d-856ad579e3f7",
   "metadata": {},
   "outputs": [
    {
     "name": "stdout",
     "output_type": "stream",
     "text": [
      "Value of x: 65\n"
     ]
    }
   ],
   "source": [
    "\"\"\"Q4. Why self is used in OOPs?\"\"\"\n",
    "\n",
    "\n",
    "# In object-oriented programming (OOP), self is a convention used as the first parameter in instance methods. It refers to the instance of the class and allows you to access and manipulate the attributes and methods of that instance. The use of self is crucial for distinguishing between instance variables and local variables within the class.\n",
    "\n",
    "class MyClass:\n",
    "    def __init__(self, x):\n",
    "        self.x = x\n",
    "\n",
    "    def print_x(self):\n",
    "        print(\"Value of x:\", self.x)\n",
    "\n",
    "# Create an instance of MyClass\n",
    "obj = MyClass(65)\n",
    "\n",
    "# Call the print_x method on the instance\n",
    "obj.print_x()\n"
   ]
  },
  {
   "cell_type": "code",
   "execution_count": 17,
   "id": "7fa2abfe-e414-405f-8a30-d9cd7ab88326",
   "metadata": {},
   "outputs": [
    {
     "data": {
      "text/plain": [
       "'Q5. What is an inheritance? Give an example of each type of inheritance.'"
      ]
     },
     "execution_count": 17,
     "metadata": {},
     "output_type": "execute_result"
    }
   ],
   "source": [
    "\"\"\"Q5. What is an inheritance? Give an example of each type of inheritance.\"\"\""
   ]
  },
  {
   "cell_type": "code",
   "execution_count": 24,
   "id": "dd3bc213-e583-49ab-a4bf-74985abd9ac9",
   "metadata": {},
   "outputs": [
    {
     "name": "stdout",
     "output_type": "stream",
     "text": [
      "animal speaks\n",
      "dog barks\n"
     ]
    }
   ],
   "source": [
    "# Inheritance is one of the fundamental concepts in object-oriented programming (OOP) that allows a new class to inherit attributes and behaviors from an existing class. The existing class is referred to as the base class or superclass, and the new class is called the derived class or subclass. Inheritance promotes code reuse and the creation of a hierarchy of classes.\n",
    "\n",
    "#Single Inheritance\n",
    "\n",
    "class animal:\n",
    "    def speak(self):\n",
    "        print(\"animal speaks\")\n",
    "        \n",
    "class dog(animal):\n",
    "    def bark(self):\n",
    "        print(\"dog barks\")\n",
    "        \n",
    "#create instance of the derived class\n",
    "\n",
    "my_dog = dog()\n",
    "\n",
    "my_dog.speak()\n",
    "my_dog.bark()\n",
    " \n",
    "    "
   ]
  },
  {
   "cell_type": "code",
   "execution_count": 19,
   "id": "88fa7129-dc01-4bae-bdc8-abc86e30512a",
   "metadata": {},
   "outputs": [
    {
     "name": "stdout",
     "output_type": "stream",
     "text": [
      "Bird chirps\n",
      "Horse neighs\n",
      "Pegasus flies\n"
     ]
    }
   ],
   "source": [
    "#Multiple Inheritance\n",
    "\n",
    "class Bird:\n",
    "    def chirp(self):\n",
    "        print(\"Bird chirps\")\n",
    "\n",
    "class Horse:\n",
    "    def neigh(self):\n",
    "        print(\"Horse neighs\")\n",
    "\n",
    "class Pegasus(Bird, Horse):\n",
    "    def fly(self):\n",
    "        print(\"Pegasus flies\")\n",
    "\n",
    "# Create an instance of the derived class\n",
    "my_pegasus = Pegasus()\n",
    "\n",
    "# Call methods from both base classes and the derived class\n",
    "my_pegasus.chirp()  # Inherited from Bird\n",
    "my_pegasus.neigh()  # Inherited from Horse\n",
    "my_pegasus.fly()    # Defined in Pegasus\n"
   ]
  },
  {
   "cell_type": "code",
   "execution_count": 25,
   "id": "d37b6392-f1f9-48f7-b4d0-3c8067eff339",
   "metadata": {},
   "outputs": [
    {
     "name": "stdout",
     "output_type": "stream",
     "text": [
      "Vehicle engine started\n",
      "Car is being driven\n",
      "Sports car is racing\n"
     ]
    }
   ],
   "source": [
    "#Multilevel Inheritance\n",
    "\n",
    "class Vehicle:\n",
    "    def start_engine(self):\n",
    "        print(\"Vehicle engine started\")\n",
    "\n",
    "class Car(Vehicle):\n",
    "    def drive(self):\n",
    "        print(\"Car is being driven\")\n",
    "\n",
    "class SportsCar(Car):\n",
    "    def race(self):\n",
    "        print(\"Sports car is racing\")\n",
    "\n",
    "# Create an instance of the derived class\n",
    "my_sports_car = SportsCar()\n",
    "\n",
    "# Call methods from all levels of the hierarchy\n",
    "my_sports_car.start_engine()  # Inherited from Vehicle\n",
    "my_sports_car.drive()         # Inherited from Car\n",
    "my_sports_car.race()          # Defined in SportsCar\n"
   ]
  },
  {
   "cell_type": "code",
   "execution_count": null,
   "id": "6b068657-0d91-4811-acfb-52cddd029e17",
   "metadata": {},
   "outputs": [],
   "source": []
  }
 ],
 "metadata": {
  "kernelspec": {
   "display_name": "Python 3 (ipykernel)",
   "language": "python",
   "name": "python3"
  },
  "language_info": {
   "codemirror_mode": {
    "name": "ipython",
    "version": 3
   },
   "file_extension": ".py",
   "mimetype": "text/x-python",
   "name": "python",
   "nbconvert_exporter": "python",
   "pygments_lexer": "ipython3",
   "version": "3.10.8"
  }
 },
 "nbformat": 4,
 "nbformat_minor": 5
}
